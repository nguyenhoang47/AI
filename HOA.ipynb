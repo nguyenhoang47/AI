{
  "nbformat": 4,
  "nbformat_minor": 0,
  "metadata": {
    "colab": {
      "provenance": [],
      "authorship_tag": "ABX9TyOpR0N1/F2aQ6aXmBdsnUVv",
      "include_colab_link": true
    },
    "kernelspec": {
      "name": "python3",
      "display_name": "Python 3"
    },
    "language_info": {
      "name": "python"
    },
    "accelerator": "GPU",
    "gpuClass": "standard"
  },
  "cells": [
    {
      "cell_type": "markdown",
      "metadata": {
        "id": "view-in-github",
        "colab_type": "text"
      },
      "source": [
        "<a href=\"https://colab.research.google.com/github/nguyenhoang47/AI/blob/main/HOA.ipynb\" target=\"_parent\"><img src=\"https://colab.research.google.com/assets/colab-badge.svg\" alt=\"Open In Colab\"/></a>"
      ]
    },
    {
      "cell_type": "code",
      "source": [
        "from os import listdir\n",
        "from numpy import asarray, save\n",
        "from keras.utils import load_img\n",
        "from keras.utils import img_to_array"
      ],
      "metadata": {
        "id": "1B4nLhUlgjPW"
      },
      "execution_count": null,
      "outputs": []
    },
    {
      "cell_type": "code",
      "source": [
        "folder = '/content/drive/MyDrive/Five Types Of Flowers/dulieu5loaihoa'\n",
        "photos, labels = list(), list()\n",
        "for file in listdir(folder):\n",
        "  output= 0.0\n",
        "  if file.startswith('ROSE'):\n",
        "    output= 1.0\n",
        "  if file.startswith('DANDELION'):\n",
        "    output= 2.0\n",
        "  if file.startswith('DAISY'):\n",
        "    output= 3.0\n",
        "  if file.startswith('TULIP'):\n",
        "    output= 4.0\n",
        "  if file.startswith('SUNFLOWER'):\n",
        "    output= 5.0\n",
        "  photo = load_img(folder + file, target_size= (40,40))\n",
        "  photo= img_to_array(photo)\n",
        "\n",
        "  photos.append(photo)\n",
        "  labels.append(output)\n",
        "     "
      ],
      "metadata": {
        "id": "pQIMZ_vVgmkz"
      },
      "execution_count": null,
      "outputs": []
    },
    {
      "cell_type": "code",
      "source": [
        "photos= asarray(photos)\n",
        "labels= asarray(labels)\n",
        "print(photos.shape, labels.shape)\n",
        "!mkdir /content/drive/MyDrive/Colab\\ Notebooks/Data\n",
        "save('/content/drive/MyDrive/Five Types Of Flowers_photos.npy', photos)\n",
        "save('/content/drive/MyDrive/Five Types Of Flowers_labels.npy', labels)"
      ],
      "metadata": {
        "colab": {
          "base_uri": "https://localhost:8080/"
        },
        "id": "1rUtDySsg63D",
        "outputId": "7dd0c77a-58b3-425d-e176-b07f4ae84b4f"
      },
      "execution_count": null,
      "outputs": [
        {
          "output_type": "stream",
          "name": "stdout",
          "text": [
            "(0,) (0,)\n",
            "mkdir: cannot create directory ‘/content/drive/MyDrive/Colab Notebooks/Data’: File exists\n"
          ]
        }
      ]
    },
    {
      "cell_type": "code",
      "source": [
        "from google.colab import drive\n",
        "drive.mount('/content/drive')"
      ],
      "metadata": {
        "colab": {
          "base_uri": "https://localhost:8080/"
        },
        "id": "t1uTybY2hk2_",
        "outputId": "8e6d0b56-fe02-4101-e54e-96a85d62885b"
      },
      "execution_count": null,
      "outputs": [
        {
          "output_type": "stream",
          "name": "stdout",
          "text": [
            "Drive already mounted at /content/drive; to attempt to forcibly remount, call drive.mount(\"/content/drive\", force_remount=True).\n"
          ]
        }
      ]
    },
    {
      "cell_type": "code",
      "source": [
        "split_index = int(0.05 * len(photos))\n",
        "test_x, test_y = photos[:split_index], labels[:split_index]\n",
        "train_x, train_y = photos[split_index:], labels[split_index:]"
      ],
      "metadata": {
        "id": "eCxDDEZohq1H"
      },
      "execution_count": null,
      "outputs": []
    },
    {
      "cell_type": "code",
      "source": [
        "\n",
        "print(test_x.shape, train_x.shape)"
      ],
      "metadata": {
        "colab": {
          "base_uri": "https://localhost:8080/"
        },
        "id": "z6ruwrBShuM8",
        "outputId": "e8ee5a6b-c184-498d-802a-b3b7034060fc"
      },
      "execution_count": null,
      "outputs": [
        {
          "output_type": "stream",
          "name": "stdout",
          "text": [
            "(0,) (0,)\n"
          ]
        }
      ]
    },
    {
      "cell_type": "code",
      "source": [
        "train_x = train_x.reshape((4101, 40, 40, 3))\n",
        "train_x = train_x.astype('float32')/255\n",
        "\n",
        "test_x = test_x.reshape((215, 40, 40, 3))\n",
        "test_x = test_x.astype('float32')/255\n",
        "     "
      ],
      "metadata": {
        "id": "_7UGnWTMhwqG"
      },
      "execution_count": null,
      "outputs": []
    }
  ]
}