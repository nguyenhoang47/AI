{
  "nbformat": 4,
  "nbformat_minor": 0,
  "metadata": {
    "colab": {
      "provenance": [],
      "toc_visible": true,
      "authorship_tag": "ABX9TyOBViAsYt3klPS9Lj2202su",
      "include_colab_link": true
    },
    "kernelspec": {
      "name": "python3",
      "display_name": "Python 3"
    },
    "language_info": {
      "name": "python"
    }
  },
  "cells": [
    {
      "cell_type": "markdown",
      "metadata": {
        "id": "view-in-github",
        "colab_type": "text"
      },
      "source": [
        "<a href=\"https://colab.research.google.com/github/nguyenhoang47/AI/blob/main/B%E1%BA%A3n_sao_c%E1%BB%A7a_AI24.ipynb\" target=\"_parent\"><img src=\"https://colab.research.google.com/assets/colab-badge.svg\" alt=\"Open In Colab\"/></a>"
      ]
    },
    {
      "cell_type": "code",
      "execution_count": null,
      "metadata": {
        "colab": {
          "base_uri": "https://localhost:8080/"
        },
        "id": "tm5BgAfTCjbp",
        "outputId": "b25da613-a7dc-43f2-d80d-df62729f0d37"
      },
      "outputs": [
        {
          "output_type": "stream",
          "name": "stdout",
          "text": [
            "Looking in indexes: https://pypi.org/simple, https://us-python.pkg.dev/colab-wheels/public/simple/\n",
            "Collecting scikit-fuzzy\n",
            "  Downloading scikit-fuzzy-0.4.2.tar.gz (993 kB)\n",
            "\u001b[2K     \u001b[90m━━━━━━━━━━━━━━━━━━━━━━━━━━━━━━━━━━━━━━\u001b[0m \u001b[32m994.0/994.0 KB\u001b[0m \u001b[31m22.9 MB/s\u001b[0m eta \u001b[36m0:00:00\u001b[0m\n",
            "\u001b[?25h  Preparing metadata (setup.py) ... \u001b[?25l\u001b[?25hdone\n",
            "Requirement already satisfied: numpy>=1.6.0 in /usr/local/lib/python3.8/dist-packages (from scikit-fuzzy) (1.22.4)\n",
            "Requirement already satisfied: scipy>=0.9.0 in /usr/local/lib/python3.8/dist-packages (from scikit-fuzzy) (1.7.3)\n",
            "Requirement already satisfied: networkx>=1.9.0 in /usr/local/lib/python3.8/dist-packages (from scikit-fuzzy) (3.0)\n",
            "Building wheels for collected packages: scikit-fuzzy\n",
            "  Building wheel for scikit-fuzzy (setup.py) ... \u001b[?25l\u001b[?25hdone\n",
            "  Created wheel for scikit-fuzzy: filename=scikit_fuzzy-0.4.2-py3-none-any.whl size=894088 sha256=3399fd74ace98e5fbbc1d6be836a5122ca697a0b02f4319e7ac518ab30145949\n",
            "  Stored in directory: /root/.cache/pip/wheels/2c/04/80/7eefb1a2de7d36aefd06432fab2a1486caf0a0596a7067391a\n",
            "Successfully built scikit-fuzzy\n",
            "Installing collected packages: scikit-fuzzy\n",
            "Successfully installed scikit-fuzzy-0.4.2\n"
          ]
        }
      ],
      "source": [
        "pip install scikit-fuzzy\n"
      ]
    },
    {
      "cell_type": "code",
      "source": [
        "pip install scikit-fuzzy"
      ],
      "metadata": {
        "colab": {
          "base_uri": "https://localhost:8080/"
        },
        "id": "PSS_el0TL1UE",
        "outputId": "fdd74cde-cff5-4a93-a871-25775e4cf9f5"
      },
      "execution_count": 4,
      "outputs": [
        {
          "output_type": "stream",
          "name": "stdout",
          "text": [
            "Looking in indexes: https://pypi.org/simple, https://us-python.pkg.dev/colab-wheels/public/simple/\n",
            "Requirement already satisfied: scikit-fuzzy in /usr/local/lib/python3.8/dist-packages (0.4.2)\n",
            "Requirement already satisfied: numpy>=1.6.0 in /usr/local/lib/python3.8/dist-packages (from scikit-fuzzy) (1.22.4)\n",
            "Requirement already satisfied: scipy>=0.9.0 in /usr/local/lib/python3.8/dist-packages (from scikit-fuzzy) (1.7.3)\n",
            "Requirement already satisfied: networkx>=1.9.0 in /usr/local/lib/python3.8/dist-packages (from scikit-fuzzy) (3.0)\n"
          ]
        }
      ]
    },
    {
      "cell_type": "code",
      "source": [],
      "metadata": {
        "id": "kumzAqEHLRSa"
      },
      "execution_count": null,
      "outputs": []
    },
    {
      "cell_type": "code",
      "source": [
        "import numpy as np\n",
        "import skfuzzy as fuzz\n",
        "import matplotlib.pyplot as plt\n",
        "from numpy.lib.function_base import median\n",
        "x = np.arange (30,81,1)\n",
        "slow = fuzz.trimf (x,[30,30,50])\n",
        "median = fuzz.trimf(x,[30,50,80])\n",
        "median_fast = fuzz.trimf(x,[30,50,80])\n",
        "full_speed = fuzz.triaf(z,[70,90,100])\n",
        "plt.figure()\n",
        "plt.plot(x,slow,'r',linewidth=1.5,label='slow')\n"
      ],
      "metadata": {
        "colab": {
          "base_uri": "https://localhost:8080/",
          "height": 235
        },
        "id": "oW93_f_bDBYC",
        "outputId": "2732e225-45e5-4dea-8167-08a31d48c06c"
      },
      "execution_count": null,
      "outputs": [
        {
          "output_type": "error",
          "ename": "NameError",
          "evalue": "ignored",
          "traceback": [
            "\u001b[0;31m---------------------------------------------------------------------------\u001b[0m",
            "\u001b[0;31mNameError\u001b[0m                                 Traceback (most recent call last)",
            "\u001b[0;32m<ipython-input-23-4ee2d4380f45>\u001b[0m in \u001b[0;36m<module>\u001b[0;34m\u001b[0m\n\u001b[1;32m      7\u001b[0m \u001b[0mmedian\u001b[0m \u001b[0;34m=\u001b[0m \u001b[0mfuzz\u001b[0m\u001b[0;34m.\u001b[0m\u001b[0mtrimf\u001b[0m\u001b[0;34m(\u001b[0m\u001b[0mx\u001b[0m\u001b[0;34m,\u001b[0m\u001b[0;34m[\u001b[0m\u001b[0;36m30\u001b[0m\u001b[0;34m,\u001b[0m\u001b[0;36m50\u001b[0m\u001b[0;34m,\u001b[0m\u001b[0;36m80\u001b[0m\u001b[0;34m]\u001b[0m\u001b[0;34m)\u001b[0m\u001b[0;34m\u001b[0m\u001b[0;34m\u001b[0m\u001b[0m\n\u001b[1;32m      8\u001b[0m \u001b[0mmedian_fast\u001b[0m \u001b[0;34m=\u001b[0m \u001b[0mfuzz\u001b[0m\u001b[0;34m.\u001b[0m\u001b[0mtrimf\u001b[0m\u001b[0;34m(\u001b[0m\u001b[0mx\u001b[0m\u001b[0;34m,\u001b[0m\u001b[0;34m[\u001b[0m\u001b[0;36m30\u001b[0m\u001b[0;34m,\u001b[0m\u001b[0;36m50\u001b[0m\u001b[0;34m,\u001b[0m\u001b[0;36m80\u001b[0m\u001b[0;34m]\u001b[0m\u001b[0;34m)\u001b[0m\u001b[0;34m\u001b[0m\u001b[0;34m\u001b[0m\u001b[0m\n\u001b[0;32m----> 9\u001b[0;31m \u001b[0mfull_speed\u001b[0m\u001b[0;34m\u001b[0m\u001b[0;34m\u001b[0m\u001b[0m\n\u001b[0m\u001b[1;32m     10\u001b[0m \u001b[0mplt\u001b[0m\u001b[0;34m.\u001b[0m\u001b[0mfigure\u001b[0m\u001b[0;34m(\u001b[0m\u001b[0;34m)\u001b[0m\u001b[0;34m\u001b[0m\u001b[0;34m\u001b[0m\u001b[0m\n\u001b[1;32m     11\u001b[0m \u001b[0mplt\u001b[0m\u001b[0;34m.\u001b[0m\u001b[0mplot\u001b[0m\u001b[0;34m(\u001b[0m\u001b[0mx\u001b[0m\u001b[0;34m,\u001b[0m\u001b[0mslow\u001b[0m\u001b[0;34m,\u001b[0m\u001b[0;34m'r'\u001b[0m\u001b[0;34m,\u001b[0m\u001b[0mlinewidth\u001b[0m\u001b[0;34m=\u001b[0m\u001b[0;36m1.5\u001b[0m\u001b[0;34m,\u001b[0m\u001b[0mlabel\u001b[0m\u001b[0;34m=\u001b[0m\u001b[0;34m'slow'\u001b[0m\u001b[0;34m)\u001b[0m\u001b[0;34m\u001b[0m\u001b[0;34m\u001b[0m\u001b[0m\n",
            "\u001b[0;31mNameError\u001b[0m: name 'full_speed' is not defined"
          ]
        }
      ]
    },
    {
      "cell_type": "code",
      "source": [
        "from skfuzzy.membership.generatemf import trapmf\n",
        "import numpy as np\n",
        "import skfuzzy as fuzz\n",
        "import matplotlib.pyplot as plt\n",
        "from numpy.lib.function_base import median\n",
        "x = np.arange (30,81,1)\n",
        "slow = trapmf (x,[30,30,30,50])\n",
        "median = trapmf(x,[30,50,50,80])\n",
        "median_fast =  trapmf(x,[30,50,80])\n",
        "full_speed =  trapmf (z,[70,90,100])\n",
        "plt.figure()\n",
        "plt.plot(x,slow,'x',linewidth=1.5,label='slow')\n",
        "plt.plot(x,median,'x'linewidth=1.5,)\n",
        "plt.plot(x,)\n",
        "plt.plot(x,)\n"
      ],
      "metadata": {
        "colab": {
          "base_uri": "https://localhost:8080/",
          "height": 357
        },
        "id": "QHMUWkGqJNIa",
        "outputId": "a2e7d581-1ced-499d-9eac-1b9bc55ce86f"
      },
      "execution_count": null,
      "outputs": [
        {
          "output_type": "error",
          "ename": "AssertionError",
          "evalue": "ignored",
          "traceback": [
            "\u001b[0;31m---------------------------------------------------------------------------\u001b[0m",
            "\u001b[0;31mAssertionError\u001b[0m                            Traceback (most recent call last)",
            "\u001b[0;32m<ipython-input-29-8e62508c7712>\u001b[0m in \u001b[0;36m<module>\u001b[0;34m\u001b[0m\n\u001b[1;32m      7\u001b[0m \u001b[0mslow\u001b[0m \u001b[0;34m=\u001b[0m \u001b[0mtrapmf\u001b[0m \u001b[0;34m(\u001b[0m\u001b[0mx\u001b[0m\u001b[0;34m,\u001b[0m\u001b[0;34m[\u001b[0m\u001b[0;36m30\u001b[0m\u001b[0;34m,\u001b[0m\u001b[0;36m30\u001b[0m\u001b[0;34m,\u001b[0m\u001b[0;36m30\u001b[0m\u001b[0;34m,\u001b[0m\u001b[0;36m50\u001b[0m\u001b[0;34m]\u001b[0m\u001b[0;34m)\u001b[0m\u001b[0;34m\u001b[0m\u001b[0;34m\u001b[0m\u001b[0m\n\u001b[1;32m      8\u001b[0m \u001b[0mmedian\u001b[0m \u001b[0;34m=\u001b[0m \u001b[0mtrapmf\u001b[0m\u001b[0;34m(\u001b[0m\u001b[0mx\u001b[0m\u001b[0;34m,\u001b[0m\u001b[0;34m[\u001b[0m\u001b[0;36m30\u001b[0m\u001b[0;34m,\u001b[0m\u001b[0;36m50\u001b[0m\u001b[0;34m,\u001b[0m\u001b[0;36m50\u001b[0m\u001b[0;34m,\u001b[0m\u001b[0;36m80\u001b[0m\u001b[0;34m]\u001b[0m\u001b[0;34m)\u001b[0m\u001b[0;34m\u001b[0m\u001b[0;34m\u001b[0m\u001b[0m\n\u001b[0;32m----> 9\u001b[0;31m \u001b[0mmedian_fast\u001b[0m \u001b[0;34m=\u001b[0m  \u001b[0mtrapmf\u001b[0m\u001b[0;34m(\u001b[0m\u001b[0mx\u001b[0m\u001b[0;34m,\u001b[0m\u001b[0;34m[\u001b[0m\u001b[0;36m30\u001b[0m\u001b[0;34m,\u001b[0m\u001b[0;36m50\u001b[0m\u001b[0;34m,\u001b[0m\u001b[0;36m80\u001b[0m\u001b[0;34m]\u001b[0m\u001b[0;34m)\u001b[0m\u001b[0;34m\u001b[0m\u001b[0;34m\u001b[0m\u001b[0m\n\u001b[0m\u001b[1;32m     10\u001b[0m \u001b[0mfull_speed\u001b[0m \u001b[0;34m=\u001b[0m  \u001b[0mtrapmf\u001b[0m \u001b[0;34m(\u001b[0m\u001b[0mz\u001b[0m\u001b[0;34m,\u001b[0m\u001b[0;34m[\u001b[0m\u001b[0;36m70\u001b[0m\u001b[0;34m,\u001b[0m\u001b[0;36m90\u001b[0m\u001b[0;34m,\u001b[0m\u001b[0;36m100\u001b[0m\u001b[0;34m]\u001b[0m\u001b[0;34m)\u001b[0m\u001b[0;34m\u001b[0m\u001b[0;34m\u001b[0m\u001b[0m\n\u001b[1;32m     11\u001b[0m \u001b[0mplt\u001b[0m\u001b[0;34m.\u001b[0m\u001b[0mfigure\u001b[0m\u001b[0;34m(\u001b[0m\u001b[0;34m)\u001b[0m\u001b[0;34m\u001b[0m\u001b[0;34m\u001b[0m\u001b[0m\n",
            "\u001b[0;32m/usr/local/lib/python3.8/dist-packages/skfuzzy/membership/generatemf.py\u001b[0m in \u001b[0;36mtrapmf\u001b[0;34m(x, abcd)\u001b[0m\n\u001b[1;32m    393\u001b[0m         \u001b[0mTrapezoidal\u001b[0m \u001b[0mmembership\u001b[0m \u001b[0mfunction\u001b[0m\u001b[0;34m.\u001b[0m\u001b[0;34m\u001b[0m\u001b[0;34m\u001b[0m\u001b[0m\n\u001b[1;32m    394\u001b[0m     \"\"\"\n\u001b[0;32m--> 395\u001b[0;31m     \u001b[0;32massert\u001b[0m \u001b[0mlen\u001b[0m\u001b[0;34m(\u001b[0m\u001b[0mabcd\u001b[0m\u001b[0;34m)\u001b[0m \u001b[0;34m==\u001b[0m \u001b[0;36m4\u001b[0m\u001b[0;34m,\u001b[0m \u001b[0;34m'abcd parameter must have exactly four elements.'\u001b[0m\u001b[0;34m\u001b[0m\u001b[0;34m\u001b[0m\u001b[0m\n\u001b[0m\u001b[1;32m    396\u001b[0m     \u001b[0ma\u001b[0m\u001b[0;34m,\u001b[0m \u001b[0mb\u001b[0m\u001b[0;34m,\u001b[0m \u001b[0mc\u001b[0m\u001b[0;34m,\u001b[0m \u001b[0md\u001b[0m \u001b[0;34m=\u001b[0m \u001b[0mnp\u001b[0m\u001b[0;34m.\u001b[0m\u001b[0mr_\u001b[0m\u001b[0;34m[\u001b[0m\u001b[0mabcd\u001b[0m\u001b[0;34m]\u001b[0m\u001b[0;34m\u001b[0m\u001b[0;34m\u001b[0m\u001b[0m\n\u001b[1;32m    397\u001b[0m     \u001b[0;32massert\u001b[0m \u001b[0ma\u001b[0m \u001b[0;34m<=\u001b[0m \u001b[0mb\u001b[0m \u001b[0;32mand\u001b[0m \u001b[0mb\u001b[0m \u001b[0;34m<=\u001b[0m \u001b[0mc\u001b[0m \u001b[0;32mand\u001b[0m \u001b[0mc\u001b[0m \u001b[0;34m<=\u001b[0m \u001b[0md\u001b[0m\u001b[0;34m,\u001b[0m\u001b[0;31m \u001b[0m\u001b[0;31m'\u001b[0m\u001b[0mabcd\u001b[0m \u001b[0mrequires\u001b[0m \u001b[0mthe\u001b[0m \u001b[0mfour\u001b[0m \u001b[0melements\u001b[0m\u001b[0;31m \u001b[0m\u001b[0;31m\\\u001b[0m\u001b[0;34m\u001b[0m\u001b[0;34m\u001b[0m\u001b[0m\n",
            "\u001b[0;31mAssertionError\u001b[0m: abcd parameter must have exactly four elements."
          ]
        }
      ]
    },
    {
      "cell_type": "code",
      "source": [
        "import numpy as np\n",
        "import skfuzzy as fuzz\n",
        "import matplotlib.pyplot as plt\n",
        "x= np.arange(30,81,1)\n",
        "slow=fuzz.gaussmf(x,30,5)\n",
        "medium=fuzz.gaussmf(x,50,4)\n",
        "medium_fast=fuzz.gaussmf(x,50,5)\n",
        "fast=fuzz.gaussmf(x,70,5)\n",
        "plt.figure()\n",
        "plt.plot(x,slow,'r',linewidth=1.5,label='slow')\n",
        "plt.plot(x,medium,'b',linewidth=1.5,label='medium')\n",
        "plt.plot(x,medium_fast,'o',linewidth=1.5,label='medium_fast')\n",
        "plt.plot(x,fast,'v',linewidth=1.5,label='fast')\n"
      ],
      "metadata": {
        "colab": {
          "base_uri": "https://localhost:8080/",
          "height": 282
        },
        "id": "5SY0qBi3KmMc",
        "outputId": "0a4891d3-17d1-4b4e-85e0-7a3f7d63258d"
      },
      "execution_count": null,
      "outputs": [
        {
          "output_type": "execute_result",
          "data": {
            "text/plain": [
              "[<matplotlib.lines.Line2D at 0x7f2a4cc7f790>]"
            ]
          },
          "metadata": {},
          "execution_count": 30
        },
        {
          "output_type": "display_data",
          "data": {
            "text/plain": [
              "<Figure size 432x288 with 1 Axes>"
            ],
            "image/png": "[encoded data removed]"
          },
          "metadata": {
            "needs_background": "light"
          }
        }
      ]
    },
    {
      "cell_type": "code",
      "source": [
        "import numpy as np\n",
        "import skfuzzy as fuzz\n",
        "import matplotlib.pyplot as plt\n",
        "from skfuzzy import control as ctrl\n",
        "food=ctrl.Antecedent(np.arange(0,11,1),'Food')\n",
        "service = ctrl.Antecedent(np.arange(0,11,1),'Service')\n",
        "tip = ctrl.Consequent(np.arange(10,31,1),'Tip')\n",
        "food ['poor'] = fuzz.trimf(food.universe,[0,0,5])\n",
        "food ['arange'] =fuzz.trimf(food.universe,[0,5,10])\n",
        "food ['good'] = fuzz.trimf(food.universe,[5,10,10])\n",
        "\n",
        "service ['poor'] = fuzz.trimf(service.viewuniverse,[0,0,5])\n",
        "service ['arange'] = fuzz.trimf(service.universe,[0,5,10])\n",
        "service ['good'] = fuzz.trimf(service.universe,[5,10,10])\n",
        "\n",
        "tip ['poor'] = fuzz.trimf(tip.universe,[0,0,5])\n",
        "tip ['arange'] = fuzz.trimf(tip.universe,[0,5,10])\n",
        "tip ['good'] = fuzz.trimf(tip.universe,[5,10,10])\n",
        "\n",
        "tip.view()\n",
        "food.view()\n",
        "service.view()\n",
        "rule1 = ctrl.Rule(food['poor']&service['poor'],tip['less'])\n",
        "rule2 = ctrl.Rule(food['average']&service['poor'],tip['less'])\n",
        "rule3 = ctrl.Rule(food['good']&service['poor'],tip['much'])\n",
        "rule4 = ctrl.Rule(food['poor']&service['poor'],tip['nor'])\n",
        "rule5 = ctrl.Rule(food['average']&service['poor'],tip['nor'])\n",
        "rule6 = ctrl.Rule(food['good']&service['poor'],tip['much'])\n",
        "rule7 = ctrl.Rule(food['poor']&service['poor'],tip['much'])\n",
        "rule8 = ctrl.Rule(food['average']&service['poor'],tip['nor'])\n",
        "rule9 = ctrl.Rule(food['good']&service['poor'],tip['nor'])\n",
        "\n",
        "tipping_ctrl = ctrl.ControlSystem([rule1,rule2,rule3,rule4,rule5,rule6,rule7,rule8,rule9])\n",
        "tipping = ctrl.ControlSystemSimulation(tipping_ctrl)\n",
        "tipping.input['food']=6.5\n",
        "tipping.input['service']=9.8\n",
        "tipping.compute()\n",
        "print(tipping.output['Tip'])\n",
        "tip.view(sim=tipping)"
      ],
      "metadata": {
        "colab": {
          "base_uri": "https://localhost:8080/",
          "height": 235
        },
        "id": "73VrNYPJN6GM",
        "outputId": "13e38587-1328-471b-b0ae-cbdce7e3b41c"
      },
      "execution_count": null,
      "outputs": [
        {
          "output_type": "error",
          "ename": "AttributeError",
          "evalue": "ignored",
          "traceback": [
            "\u001b[0;31m---------------------------------------------------------------------------\u001b[0m",
            "\u001b[0;31mAttributeError\u001b[0m                            Traceback (most recent call last)",
            "\u001b[0;32m<ipython-input-41-d2ec79f8dfeb>\u001b[0m in \u001b[0;36m<module>\u001b[0;34m\u001b[0m\n\u001b[1;32m     10\u001b[0m \u001b[0mfood\u001b[0m \u001b[0;34m[\u001b[0m\u001b[0;34m'good'\u001b[0m\u001b[0;34m]\u001b[0m \u001b[0;34m=\u001b[0m \u001b[0mfuzz\u001b[0m\u001b[0;34m.\u001b[0m\u001b[0mtrimf\u001b[0m\u001b[0;34m(\u001b[0m\u001b[0mfood\u001b[0m\u001b[0;34m.\u001b[0m\u001b[0muniverse\u001b[0m\u001b[0;34m,\u001b[0m\u001b[0;34m[\u001b[0m\u001b[0;36m5\u001b[0m\u001b[0;34m,\u001b[0m\u001b[0;36m10\u001b[0m\u001b[0;34m,\u001b[0m\u001b[0;36m10\u001b[0m\u001b[0;34m]\u001b[0m\u001b[0;34m)\u001b[0m\u001b[0;34m\u001b[0m\u001b[0;34m\u001b[0m\u001b[0m\n\u001b[1;32m     11\u001b[0m \u001b[0;34m\u001b[0m\u001b[0m\n\u001b[0;32m---> 12\u001b[0;31m \u001b[0mservice\u001b[0m \u001b[0;34m[\u001b[0m\u001b[0;34m'poor'\u001b[0m\u001b[0;34m]\u001b[0m \u001b[0;34m=\u001b[0m \u001b[0mfuzz\u001b[0m\u001b[0;34m.\u001b[0m\u001b[0mtrimf\u001b[0m\u001b[0;34m(\u001b[0m\u001b[0mservice\u001b[0m\u001b[0;34m.\u001b[0m\u001b[0mviewuniverse\u001b[0m\u001b[0;34m,\u001b[0m\u001b[0;34m[\u001b[0m\u001b[0;36m0\u001b[0m\u001b[0;34m,\u001b[0m\u001b[0;36m0\u001b[0m\u001b[0;34m,\u001b[0m\u001b[0;36m5\u001b[0m\u001b[0;34m]\u001b[0m\u001b[0;34m)\u001b[0m\u001b[0;34m\u001b[0m\u001b[0;34m\u001b[0m\u001b[0m\n\u001b[0m\u001b[1;32m     13\u001b[0m \u001b[0mservice\u001b[0m \u001b[0;34m[\u001b[0m\u001b[0;34m'arange'\u001b[0m\u001b[0;34m]\u001b[0m \u001b[0;34m=\u001b[0m \u001b[0mfuzz\u001b[0m\u001b[0;34m.\u001b[0m\u001b[0mtrimf\u001b[0m\u001b[0;34m(\u001b[0m\u001b[0mservice\u001b[0m\u001b[0;34m.\u001b[0m\u001b[0muniverse\u001b[0m\u001b[0;34m,\u001b[0m\u001b[0;34m[\u001b[0m\u001b[0;36m0\u001b[0m\u001b[0;34m,\u001b[0m\u001b[0;36m5\u001b[0m\u001b[0;34m,\u001b[0m\u001b[0;36m10\u001b[0m\u001b[0;34m]\u001b[0m\u001b[0;34m)\u001b[0m\u001b[0;34m\u001b[0m\u001b[0;34m\u001b[0m\u001b[0m\n\u001b[1;32m     14\u001b[0m \u001b[0mservice\u001b[0m \u001b[0;34m[\u001b[0m\u001b[0;34m'good'\u001b[0m\u001b[0;34m]\u001b[0m \u001b[0;34m=\u001b[0m \u001b[0mfuzz\u001b[0m\u001b[0;34m.\u001b[0m\u001b[0mtrimf\u001b[0m\u001b[0;34m(\u001b[0m\u001b[0mservice\u001b[0m\u001b[0;34m.\u001b[0m\u001b[0muniverse\u001b[0m\u001b[0;34m,\u001b[0m\u001b[0;34m[\u001b[0m\u001b[0;36m5\u001b[0m\u001b[0;34m,\u001b[0m\u001b[0;36m10\u001b[0m\u001b[0;34m,\u001b[0m\u001b[0;36m10\u001b[0m\u001b[0;34m]\u001b[0m\u001b[0;34m)\u001b[0m\u001b[0;34m\u001b[0m\u001b[0;34m\u001b[0m\u001b[0m\n",
            "\u001b[0;31mAttributeError\u001b[0m: 'Antecedent' object has no attribute 'viewuniverse'"
          ]
        }
      ]
    },
    {
      "cell_type": "code",
      "source": [
        "rule1 = ctrl.Rule(food['poor']&service['poor'],tip['less'])\n",
        "rule2 = ctrl.Rule(food['average']&service['poor'],tip['less'])\n",
        "rule3 = ctrl.Rule(food['good']&service['poor'],tip['much'])\n",
        "rule4 = ctrl.Rule(food['poor']&service['poor'],tip['nor'])\n",
        "rule5 = ctrl.Rule(food['average']&service['poor'],tip['nor'])\n",
        "rule6 = ctrl.Rule(food['good']&service['poor'],tip['much'])\n",
        "rule7 = ctrl.Rule(food['poor']&service['poor'],tip['much'])\n",
        "rule8 = ctrl.Rule(food['average']&service['poor'],tip['nor'])\n",
        "rule9 = ctrl.Rule(food['good']&service['poor'],tip['nor'])\n",
        "\n",
        "tipping_ctrl = ctrl.ControlSystem([rule1,rule2,rule3,rule4,rule5,rule6,rule7,rule8,rule9])\n",
        "tipping = ctrl.ControlSystemSimulation(tipping_ctrl)\n",
        "tipping.input['food']=6.5\n",
        "tipping.input['service']=9.8\n",
        "tipping.compute()\n",
        "print(tipping.output['Tip'])\n",
        "tip.view(sim=tipping)"
      ],
      "metadata": {
        "id": "hku8skICY9ZD"
      },
      "execution_count": null,
      "outputs": []
    },
    {
      "cell_type": "code",
      "source": [
        "import numpy as np\n",
        "import skfuzzy as fuzz\n",
        "import matplotlib.pyplot as plt\n",
        "from skfuzzy import control as ctrl\n",
        "timer = ctrl.Antecedent(np.arange(10,200,20),'timer')\n",
        "rice = ctrl.Antecedent(np.arange(200,220,200),'rice')\n",
        "power  = ctrl.Consequent(np.arange(0,110,10),'power')\n",
        "\n",
        "timer ['VF'] = fuzz.trimf(timer.universe,[10,10,20])\n",
        "timer ['F'] = fuzz.trimf(timer.universe,[15,35,35])\n",
        "timer ['AV'] = fuzz.trimf(timer.universe,[30,60,60])\n",
        "timer ['S'] = fuzz.trimf(timer.universe,[50,130,130])\n",
        "timer ['VS'] = fuzz.trimf(timer.universe,[120,180,180])\n",
        "\n",
        "rice ['VL'] = fuzz.trimf(rice.universe,[200,550,550])\n",
        "rice ['L'] = fuzz.trimf(rice.universe,[400,900,900])\n",
        "rice ['AV'] = fuzz.trimf(rice.universe,[850,1300,1300])\n",
        "rice ['M'] = fuzz.trimf(rice.universe,[1200,1700,1700])\n",
        "rice ['VM'] = fuzz.trimf(rice.universe,[1650,2000,2000])\n",
        "\n",
        "power ['small'] = fuzz.trimf(power.universe,[0,50,50])\n",
        "power ['average']= fuzz.trimf(power.universe,[40,80,80])\n",
        "power ['high']= fuzz.trimf(power.universe,[60,100,100])\n",
        "rule1 = ctrl.Rule(timer['VF']&rice['VL'],power['small'])\n",
        "rule2 = ctrl.Rule(timer['F']&rice['L'],power['average'])\n",
        "rule3 = ctrl.Rule(timer['AV']&rice['AV'],power['high'])\n",
        "rule4 = ctrl.Rule(timer['S']&rice['M'],power['small'])\n",
        "rule5 = ctrl.Rule(timer['VS']&rice['VM'],power['average'])\n",
        "rule6 = ctrl.Rule(timer['VF']&rice['VL'],power['high'])\n",
        "rule7 = ctrl.Rule(timer['F']&rice['L'],power['small'])\n",
        "rule8 = ctrl.Rule(timer['AV']&rice['AV'],power['average'])\n",
        "rule8 = ctrl.Rule(timer['AV']&rice['AV'],power['high'])\n",
        "rule8 = ctrl.Rule(timer['AV']&rice['AV'],power['small'])\n",
        "rule8 = ctrl.Rule(timer['AV']&rice['AV'],power['average'])\n",
        "rule9 = ctrl.Rule(timer['S']&rice['M'],power['high'])\n",
        "rule10 = ctrl.Rule(timer['VS']&rice['VM'],power['small'])\n",
        "rule11 = ctrl.Rule(timer['VF']&rice['VL'],power['average'])\n",
        "rule12 = ctrl.Rule(timer['F']&rice['L'],power['high'])\n",
        "rule13 = ctrl.Rule(timer['AV']&rice['AV'],power['small'])\n",
        "rule14 = ctrl.Rule(timer['S']&rice['M'],power['average'])\n",
        "rule15 = ctrl.Rule(timer['VS']&rice['VM'],power['high'])\n",
        "rule16 = ctrl.Rule(timer['VF']&rice['VL'],power['small'])\n",
        "rule17 = ctrl.Rule(timer['F']&rice['L'],power['average'])\n",
        "rule18 = ctrl.Rule(timer['AV']&rice['AV'],power['high'])\n",
        "rule19 = ctrl.Rule(timer['S']&rice['M'],power['small'])\n",
        "rule20 = ctrl.Rule(timer['VS']&rice['VM'],power['average'])\n",
        "rule21 = ctrl.Rule(timer['VF']&rice['VL'],power['high'])\n",
        "rule22 = ctrl.Rule(timer['F']&rice['L'],power['small'])\n",
        "rule23 = ctrl.Rule(timer['AV']&rice['AV'],power['average'])\n",
        "rule24 = ctrl.Rule(timer['VS']&rice['M'],power['high'])\n",
        "rule25 = ctrl.Rule(timer['S']&rice['VM'],power['small'])\n",
        "\n",
        "powering_ctrl = ctrl.ControlSystem([rule1,rule2,rule3,rule4,rule5,rule6,rule7,rule8,rule9,rule10,rule11,rule12,rule13,rule14,rule15,rule16,rule17,rule18,rule19,rule21,rule22,rule23,rule24,rule25])\n",
        "powering = ctrl.ControlSystemSimulation(powering_ctrl)\n",
        "powering.input['timer'] = 60\n",
        "powering.input['rice'] = 450\n",
        "\n",
        "power.view(sim = powering)\n"
      ],
      "metadata": {
        "colab": {
          "base_uri": "https://localhost:8080/",
          "height": 281
        },
        "id": "BG-kC71mLS7k",
        "outputId": "4d90e51a-e108-4d5d-9b00-580c1c0d7bcf"
      },
      "execution_count": 8,
      "outputs": [
        {
          "output_type": "display_data",
          "data": {
            "text/plain": [
              "<Figure size 432x288 with 1 Axes>"
            ],
            "image/png": "[encoded data removed]"
          },
          "metadata": {
            "needs_background": "light"
          }
        }
      ]
    }
  ]
}